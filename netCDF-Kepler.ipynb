{
 "cells": [
  {
   "cell_type": "markdown",
   "metadata": {},
   "source": [
    "__Generating a Kepler visualisation from a NetCDF file__"
   ]
  },
  {
   "cell_type": "code",
   "execution_count": 1,
   "metadata": {},
   "outputs": [],
   "source": [
    "from netCDF4 import Dataset\n",
    "import pandas as pd\n",
    "import os, glob, pathlib, keplergl"
   ]
  },
  {
   "cell_type": "code",
   "execution_count": 2,
   "metadata": {},
   "outputs": [],
   "source": [
    "def days_to_timestamps(day_list):\n",
    "    \"\"\"\n",
    "    Convert 'Days since 01-01-1600' into a usable unix timestamp \n",
    "    (seconds since 01-01-1970)\n",
    "    \"\"\"\n",
    "    day_diff = 135130       # between 1600 and 1970\n",
    "    unix_days = [float(d) - day_diff for d in day_list]\n",
    "    timestamps = [int(round(ud * 86400)) for ud in unix_days]     # convert from days to seconds\n",
    "    return timestamps\n",
    "\n",
    "\n",
    "def write_quarters(df, path, key, verbose=True):\n",
    "    \"\"\"\n",
    "    Split Year into Quarters to run more smoothly in the browser.\n",
    "    If more than ~3 months needs to be visualised at a time then multiple quarters can be\n",
    "    loaded as layers in Kepler by dragging the CSVs to the web application (kepler.gl).\n",
    "    Fields will be automatically recognised\n",
    "    \"\"\"\n",
    "    if verbose: print(\"Writing Quarters...\", end=\"\")\n",
    "    os.chdir(path)\n",
    "    data_path = pathlib.Path(os.getcwd() + \"//\" + key[:-4])\n",
    "    data_path.mkdir(parents=True, exist_ok=True) # make directory  \n",
    "    os.chdir(data_path)\n",
    "    \n",
    "    n = len(df) // 4\n",
    "    if verbose: print(\"1...\", end=\"\")\n",
    "    df.iloc[0:n].to_csv(\"Q1-\" + key)\n",
    "    if verbose: print(\"2...\", end=\"\")\n",
    "    df.iloc[n:2*n].to_csv(\"Q2-\" + key)\n",
    "    if verbose: print(\"3...\", end=\"\")\n",
    "    df.iloc[2*n:3*n].to_csv(\"Q3-\" + key)\n",
    "    if verbose: print(\"4...\")\n",
    "    df.iloc[3*n:].to_csv(\"Q4-\" + key)\n",
    "\n",
    "\n",
    "def process_netCDF(filepath, key=None, verbose=True):\n",
    "    \"\"\"\n",
    "    Process netCDF file into Kepler-readable format. \n",
    "    Creates new kepler folder in the file directory (if not already existing) to export to\n",
    "    Key - filename (before prefixed with Qn-)\n",
    "    \"\"\"\n",
    "    # convert to original-filename.csv if key is not provided \n",
    "    key = key if key is not None else pathlib.PurePath(filepath[:-3]).name+\".csv\"\n",
    "    assert \" \" not in key\n",
    "    key = key if key.endswith(\".csv\") else key + \".csv\"\n",
    "    df_list = []\n",
    "    f = Dataset(filepath, \"r\", format=\"NETCDF4\")\n",
    "    \n",
    "    # read in variables\n",
    "    mt = f.variables['time']\n",
    "    lat = f.variables['latitude']\n",
    "    lon = f.variables['longitude']\n",
    "    height = f.variables['height']\n",
    "    pressure = f.variables['pressure']\n",
    "    time = mt[:]\n",
    "    lat = lat[:]\n",
    "    lon = lon[:]\n",
    "    height = height[:]\n",
    "    pressure = pressure[:]\n",
    "\n",
    "    data_dict = {\"time\" : time.tolist(), \"lat\" : lat.tolist(), \"lon\" : lon.tolist(), \"height\" : height.tolist(), \"pressure\" : pressure.tolist()}\n",
    "    main_df = pd.DataFrame(data_dict)\n",
    "    f.close()\n",
    "    if verbose: print(\"Adding trajIDs for \" + key + \"...\")\n",
    "    for i, row in main_df.iterrows():\n",
    "        temp_dict = {'id': [i] * len(row['time']), 'time': days_to_timestamps(row['time']), 'latitude': row['lat'],\n",
    "                     'longitude': row['lon'], 'height': row['height'], 'pressure': row['pressure']}\n",
    "        df = pd.DataFrame(temp_dict)\n",
    "        df_list.append(df)\n",
    "\n",
    "\n",
    "    if verbose: print(\"Concatenating DFs...\")\n",
    "    df_full = pd.concat(df_list, ignore_index=True)\n",
    "\n",
    "    if verbose: print(\"Sorting Values...\")\n",
    "    df_full.sort_values(by=['time'], inplace=True)\n",
    "    \n",
    "    filedir = os.path.dirname(filepath)\n",
    "    data_path = pathlib.Path(filedir + \"\\\\kepler\\\\kepler-data\")\n",
    "    data_path.mkdir(parents=True, exist_ok=True) # make directory                 \n",
    "    write_quarters(df_full, data_path, key, verbose=verbose)\n",
    "    \n",
    "    print(\"Completed!\")             "
   ]
  },
  {
   "cell_type": "code",
   "execution_count": 3,
   "metadata": {},
   "outputs": [],
   "source": [
    "def process_netCDF_folder(folder):\n",
    "    \"\"\"\n",
    "    Read and process whole folder of .nc files\n",
    "    \"\"\"\n",
    "    os.chdir(folder)\n",
    "    for file in glob.glob(\"*.nc\"):\n",
    "        path = os.path.join(folder, file)\n",
    "        key = pathlib.PurePath(path).name\n",
    "        process_netCDF(path, key)\n"
   ]
  },
  {
   "cell_type": "markdown",
   "metadata": {},
   "source": [
    "### __Processing of NetCDF file__"
   ]
  },
  {
   "cell_type": "code",
   "execution_count": 13,
   "metadata": {},
   "outputs": [
    {
     "name": "stdout",
     "output_type": "stream",
     "text": [
      "Adding trajIDs for Cape-Grim-2016.csv...\n",
      "Concatenating DFs...\n",
      "Sorting Values...\n",
      "Writing Quarters...1...2...3...4...\n",
      "Completed!\n"
     ]
    }
   ],
   "source": [
    "path = r\"D:\\FinalNovClim\\GroupDev\\data\\ERA-Interim_1degree_CapeGrim_100m_2016_hourly.nc\"     # replace path with own \n",
    "process_netCDF(path, key=\"Cape-Grim-2016\")"
   ]
  },
  {
   "cell_type": "markdown",
   "metadata": {},
   "source": [
    "### __Processing of NetCDF Folder__"
   ]
  },
  {
   "cell_type": "code",
   "execution_count": 80,
   "metadata": {},
   "outputs": [],
   "source": [
    "process_netCDF_folder(r\"D:\\FinalNovClim\\GroupDev\\data\")"
   ]
  },
  {
   "cell_type": "markdown",
   "metadata": {},
   "source": [
    "## __Kepler.gl__\n",
    "\n",
    "### __Visualisation within Jupyter__"
   ]
  },
  {
   "cell_type": "code",
   "execution_count": 16,
   "metadata": {
    "jupyter": {
     "source_hidden": true
    }
   },
   "outputs": [],
   "source": [
    "# Kepler.gl config JSON String (customisable and exportable from within generated Jupyter map)\n",
    "config = {\n",
    "  \"version\": \"v1\",\n",
    "  \"config\": {\n",
    "    \"visState\": {\n",
    "      \"filters\": [\n",
    "        {\n",
    "          \"dataId\": [\n",
    "            \"Q1-Cape-Grim-2016\"\n",
    "          ],\n",
    "          \"id\": \"a5ov65eq\",\n",
    "          \"name\": [\n",
    "            \"time\"\n",
    "          ],\n",
    "          \"type\": \"timeRange\",\n",
    "          \"value\": [\n",
    "            1451606400000,\n",
    "            1451834847000\n",
    "          ],\n",
    "          \"enlarged\": True,\n",
    "          \"plotType\": \"histogram\",\n",
    "          \"yAxis\": None\n",
    "        }\n",
    "      ],\n",
    "      \"layers\": [\n",
    "        {\n",
    "          \"id\": \"u4h1i8r\",\n",
    "          \"type\": \"point\",\n",
    "          \"config\": {\n",
    "            \"dataId\": \"Q1-Cape-Grim-2016\",\n",
    "            \"label\": \"Traj-Point\",\n",
    "            \"color\": [\n",
    "              18,\n",
    "              147,\n",
    "              154\n",
    "            ],\n",
    "            \"columns\": {\n",
    "              \"lat\": \"latitude\",\n",
    "              \"lng\": \"longitude\",\n",
    "              \"altitude\": None\n",
    "            },\n",
    "            \"isVisible\": True,\n",
    "            \"visConfig\": {\n",
    "              \"radius\": 3.5,\n",
    "              \"fixedRadius\": False,\n",
    "              \"opacity\": 0.61,\n",
    "              \"outline\": False,\n",
    "              \"thickness\": 2,\n",
    "              \"strokeColor\": None,\n",
    "              \"colorRange\": {\n",
    "                \"name\": \"ColorBrewer RdBu-8\",\n",
    "                \"type\": \"diverging\",\n",
    "                \"category\": \"ColorBrewer\",\n",
    "                \"colors\": [\n",
    "                  \"#b2182b\",\n",
    "                  \"#d6604d\",\n",
    "                  \"#f4a582\",\n",
    "                  \"#fddbc7\",\n",
    "                  \"#d1e5f0\",\n",
    "                  \"#92c5de\",\n",
    "                  \"#4393c3\",\n",
    "                  \"#2166ac\"\n",
    "                ]\n",
    "              },\n",
    "              \"strokeColorRange\": {\n",
    "                \"name\": \"Global Warming\",\n",
    "                \"type\": \"sequential\",\n",
    "                \"category\": \"Uber\",\n",
    "                \"colors\": [\n",
    "                  \"#5A1846\",\n",
    "                  \"#900C3F\",\n",
    "                  \"#C70039\",\n",
    "                  \"#E3611C\",\n",
    "                  \"#F1920E\",\n",
    "                  \"#FFC300\"\n",
    "                ]\n",
    "              },\n",
    "              \"radiusRange\": [\n",
    "                0,\n",
    "                50\n",
    "              ],\n",
    "              \"filled\": True\n",
    "            },\n",
    "            \"hidden\": False,\n",
    "            \"textLabel\": [\n",
    "              {\n",
    "                \"field\": None,\n",
    "                \"color\": [\n",
    "                  255,\n",
    "                  255,\n",
    "                  255\n",
    "                ],\n",
    "                \"size\": 18,\n",
    "                \"offset\": [\n",
    "                  0,\n",
    "                  0\n",
    "                ],\n",
    "                \"anchor\": \"start\",\n",
    "                \"alignment\": \"center\"\n",
    "              }\n",
    "            ]\n",
    "          },\n",
    "          \"visualChannels\": {\n",
    "            \"colorField\": {\n",
    "              \"name\": \"height\",\n",
    "              \"type\": \"integer\"\n",
    "            },\n",
    "            \"colorScale\": \"quantize\",\n",
    "            \"strokeColorField\": None,\n",
    "            \"strokeColorScale\": \"quantile\",\n",
    "            \"sizeField\": None,\n",
    "            \"sizeScale\": \"linear\"\n",
    "          }\n",
    "        }\n",
    "      ],\n",
    "      \"interactionConfig\": {\n",
    "        \"tooltip\": {\n",
    "          \"fieldsToShow\": {\n",
    "            \"Q1-Cape-Grim-2016\": [\n",
    "              \"id\",\n",
    "              \"time\",\n",
    "              \"height\",\n",
    "              \"pressure\"\n",
    "            ]\n",
    "          },\n",
    "          \"enabled\": True\n",
    "        },\n",
    "        \"brush\": {\n",
    "          \"size\": 0.5,\n",
    "          \"enabled\": False\n",
    "        },\n",
    "        \"geocoder\": {\n",
    "          \"enabled\": False\n",
    "        },\n",
    "        \"coordinate\": {\n",
    "          \"enabled\": False\n",
    "        }\n",
    "      },\n",
    "      \"layerBlending\": \"additive\",\n",
    "      \"splitMaps\": [],\n",
    "      \"animationConfig\": {\n",
    "        \"currentTime\": None,\n",
    "        \"speed\": 1\n",
    "      }\n",
    "    },\n",
    "    \"mapState\": {\n",
    "      \"bearing\": -3.068443001905914,\n",
    "      \"dragRotate\": True,\n",
    "      \"latitude\": -48.52529353459362,\n",
    "      \"longitude\": 96.51496428765398,\n",
    "      \"pitch\": 23.230709894131998,\n",
    "      \"zoom\": 2.2403273800368235,\n",
    "      \"isSplit\": False\n",
    "    },\n",
    "    \"mapStyle\": {\n",
    "      \"styleType\": \"dark\",\n",
    "      \"topLayerGroups\": {},\n",
    "      \"visibleLayerGroups\": {\n",
    "        \"label\": True,\n",
    "        \"road\": True,\n",
    "        \"border\": False,\n",
    "        \"building\": True,\n",
    "        \"water\": True,\n",
    "        \"land\": True,\n",
    "        \"3d building\": False\n",
    "      },\n",
    "      \"threeDBuildingColor\": [\n",
    "        9.665468314072013,\n",
    "        17.18305478057247,\n",
    "        31.1442867897876\n",
    "      ],\n",
    "      \"mapStyles\": {}\n",
    "    }\n",
    "  }\n",
    "}"
   ]
  },
  {
   "cell_type": "code",
   "execution_count": 7,
   "metadata": {},
   "outputs": [
    {
     "name": "stdout",
     "output_type": "stream",
     "text": [
      "User Guide: https://docs.kepler.gl/docs/keplergl-jupyter\n"
     ]
    }
   ],
   "source": [
    "# Read CSV of Quarter\n",
    "path = r'D:\\FinalNovClim\\GroupDev\\data\\kepler\\kepler-data\\Cape-Grim-2016\\Q1-Cape-Grim-2016.csv'\n",
    "df = pd.read_csv(path, index_col=0)\n",
    "\n",
    "# generate map from CSV and Config\n",
    "w1 = keplergl.KeplerGl(height=500, data={\"Q1-Cape-Grim-2016\": df}, config=config)\n",
    "# w1.add_data(df2, 'Q2-Cape-Grim-2016')          # additional CSVs can be added if required"
   ]
  },
  {
   "cell_type": "code",
   "execution_count": 22,
   "metadata": {},
   "outputs": [
    {
     "data": {
      "application/vnd.jupyter.widget-view+json": {
       "model_id": "f137972e14294664875c0785317457b4",
       "version_major": 2,
       "version_minor": 0
      },
      "text/plain": [
       "KeplerGl(config={'version': 'v1', 'config': {'visState': {'filters': [{'dataId': ['Q1-Cape-Grim-2016'], 'id': …"
      ]
     },
     "metadata": {},
     "output_type": "display_data"
    }
   ],
   "source": [
    "w1"
   ]
  },
  {
   "cell_type": "markdown",
   "metadata": {},
   "source": [
    "### __Export to Portable HTML file__"
   ]
  },
  {
   "cell_type": "code",
   "execution_count": 15,
   "metadata": {},
   "outputs": [
    {
     "name": "stdout",
     "output_type": "stream",
     "text": [
      "Map saved to Cape_Grim_1.html!\n"
     ]
    }
   ],
   "source": [
    "w1.save_to_html(file_name=\"Cape_Grim_1.html\", data={\"Q1-Cape-Grim-2016\": df}, config=config)"
   ]
  }
 ],
 "metadata": {
  "kernelspec": {
   "display_name": "Python 3",
   "language": "python",
   "name": "python3"
  },
  "language_info": {
   "codemirror_mode": {
    "name": "ipython",
    "version": 3
   },
   "file_extension": ".py",
   "mimetype": "text/x-python",
   "name": "python",
   "nbconvert_exporter": "python",
   "pygments_lexer": "ipython3",
   "version": "3.7.9"
  }
 },
 "nbformat": 4,
 "nbformat_minor": 4
}
